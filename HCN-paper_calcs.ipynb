{
 "cells": [
  {
   "cell_type": "markdown",
   "metadata": {},
   "source": [
    "This is a notebook describing the plotting for the HCN paper. Details of observations: \n",
    "\n",
    "Target: EGS13004291 \n",
    "\n",
    "z = 1.197 \n",
    "\n",
    "Coordinates: "
   ]
  },
  {
   "cell_type": "code",
   "execution_count": 1,
   "metadata": {
    "collapsed": false
   },
   "outputs": [],
   "source": [
    "import numpy as np\n",
    "import CC_dl\n",
    "from astropy.coordinates import SkyCoord\n",
    "import matplotlib.pyplot as plt \n",
    "from astropy import constants as const\n",
    "%matplotlib inline\n",
    "c = 299792.458"
   ]
  },
  {
   "cell_type": "code",
   "execution_count": 2,
   "metadata": {
    "collapsed": false
   },
   "outputs": [],
   "source": [
    "def load(fname):\n",
    "    ''' load the file using std open'''\n",
    "    f = open(fname,'r')\n",
    "\n",
    "    data = []\n",
    "    for line in f.readlines():\n",
    "        data.append(line.replace('\\t',''))\n",
    "\n",
    "    f.close()\n",
    "\n",
    "    return data\n",
    "\n",
    "def find_nearest(array,value):\n",
    "    idx = (np.abs(array-value)).argmin()\n",
    "    return idx\n",
    "\n",
    "# function to calculate luminosity in K km/s pc^2 using Solomon2005 formula, given a redshift,dl (Mpc), sco (Jy km/s)\n",
    "# and rest frequency \n",
    "def Lprime(z, sco, nu_rest, cosmo): \n",
    "    dl = CC_dl.main(z,cosmo,verbose=-1)\n",
    "    temp = 3.25*10.**7. *dl**2. *sco\n",
    "    temp2 = ((1.+z) *nu_rest**(2.))\n",
    "    return temp/temp2\n",
    "\n",
    "# defining a function to give new luminosity values given an old and a new cosmology, and L and z \n",
    "def SwCos(L, oldCosPar, newCosPar): \n",
    "    dl_new = CC_dl.main(newCosPar)\n",
    "    dl_old = CC_dl.main(oldCosPar)\n",
    "    Lnew = L*(dl_new/dl_old)**2\n",
    "    return Lnew\n",
    "\n",
    "# function to calculate integrated line flux using Solomon2005 formula, given a redshift,dl (Mpc), sco (Jy km/s)\n",
    "# and rest frequency \n",
    "def SdelV(z, dl,sco, nu_rest): \n",
    "    temp = 3.25*10.**7. *dl**2. *sco\n",
    "    temp2 = ((1.+z) *nu_rest**(2.))\n",
    "    return temp/temp2"
   ]
  },
  {
   "cell_type": "code",
   "execution_count": 3,
   "metadata": {
    "collapsed": true
   },
   "outputs": [],
   "source": [
    "#defining used cosmologies \n",
    "gao2004 = [75.,0.3,0.7]\n",
    "greve2005 = [71., 0.27,0.73]\n",
    "carilli2005 = [70.,0.3,0.7] \n",
    "gao2007 = [75., 0.3, 0.7]\n",
    "riechers2011 = [71., 0.27,0.73]\n",
    "standard=[70,0.3,0.7]"
   ]
  },
  {
   "cell_type": "code",
   "execution_count": 4,
   "metadata": {
    "collapsed": false
   },
   "outputs": [],
   "source": [
    "# loading information \n",
    "# columns are       \n",
    "#        read dlum    1\n",
    "#        read lglco   2\n",
    "#        read lglir   3\n",
    "#        read lglfir  4\n",
    "#        read lglhcn  6\n",
    "\n",
    "# I *think* these are in the cosmology they used in the paper and therefore need to be slightly adjusted, but my I don't have all my notes from back then here at the moment (I wrote some of this stuff on paper that is likely in some box). You perhaps want to check 1-2 examples to confirm. Of course, for the line luminosity ratios, this does not really matter, but if you plot vs L_FIR or similar it has a small impact.\n",
    "# The file with all the data indicates which ones are the lower and upper limits in L_HCN (lower if not fully mapped, upper if undetected).\n",
    "\n",
    "alldatanames = np.loadtxt('/home/ag/DOCS/PROJECT/PdBI/Paper/gs04data/alldata_names.d',dtype='string')\n",
    "spirals = np.loadtxt('/home/ag/DOCS/PROJECT/PdBI/Paper/gs04data/spirals.d')\n",
    "ulirgs = np.loadtxt('/home/ag/DOCS/PROJECT/PdBI/Paper/gs04data/ulirgs.d')\n",
    "gao2004dat = np.loadtxt('/home/ag/DOCS/PROJECT/PdBI/Paper/gao2004A_mod.txt', dtype='string') \n",
    "listz = np.loadtxt('/home/ag/DOCS/PROJECT/PdBI/Paper/gs04data/list.z',dtype='string')\n",
    "\n",
    "# the last contains upper limits and such"
   ]
  },
  {
   "cell_type": "code",
   "execution_count": 5,
   "metadata": {
    "collapsed": false
   },
   "outputs": [],
   "source": [
    "names = alldatanames[:,0]\n",
    "flag=np.zeros(np.shape(names))\n",
    "newds=np.zeros(np.shape(names))\n",
    "alldat=np.zeros(np.shape(alldatanames))\n",
    "#alldatanames[:,1:].shape"
   ]
  },
  {
   "cell_type": "code",
   "execution_count": 93,
   "metadata": {
    "collapsed": false
   },
   "outputs": [],
   "source": [
    "alldat[:,:10] = alldatanames[:,1:].astype(np.double) # reads log luminosities \n",
    " # low redshift compiled data from Gao2004\n",
    "lozco=alldat[:,1]   # CO luminosities, in log10(LCO)\n",
    "lozIR=alldat[:,2]\n",
    "lozfir=alldat[:,3]\n",
    "lozhcn=alldat[:,5]"
   ]
  },
  {
   "cell_type": "code",
   "execution_count": 7,
   "metadata": {
    "collapsed": false
   },
   "outputs": [
    {
     "data": {
      "text/plain": [
       "32"
      ]
     },
     "execution_count": 7,
     "metadata": {},
     "output_type": "execute_result"
    }
   ],
   "source": [
    "# there are supposed to be 32 ULIRGS, and 33 spirals.\n",
    "# based on the IR limit, we are identifying the ULIRGS and spirals \n",
    "count = 0\n",
    "for i in range(0,65): \n",
    "    if (alldat[i,2] >= 11.): \n",
    "        alldat[i,10] = +1       # ulirgs \n",
    "        count=count+1\n",
    "    else: \n",
    "        alldat[i,10] = -1       # spirals\n",
    "count # number of ULIRGS "
   ]
  },
  {
   "cell_type": "code",
   "execution_count": null,
   "metadata": {
    "collapsed": false
   },
   "outputs": [],
   "source": []
  },
  {
   "cell_type": "code",
   "execution_count": 8,
   "metadata": {
    "collapsed": false,
    "scrolled": true
   },
   "outputs": [
    {
     "name": "stdout",
     "output_type": "stream",
     "text": [
      "13.65 3.42 0.02 27.67\n",
      "warning: significant change in d+l\n",
      "N253 0.000811 2.5 3.42660401842 0\n",
      "13.39 84.39 0.40 34.67\n",
      "13.63 11.96 0.06 30.40\n",
      "13.23 136.20 0.64 35.74\n",
      "13.26 126.83 0.60 35.58\n",
      "13.64 7.43 0.04 29.36\n",
      "13.60 20.45 0.10 31.56\n",
      "13.62 13.98 0.07 30.74\n",
      "13.61 16.00 0.08 31.03\n",
      "13.28 121.09 0.57 35.48\n",
      "13.59 23.02 0.11 31.82\n",
      "warning: significant change in d+l\n",
      "N1365 0.005457 20.8 23.1418913086 10\n",
      "13.66 0.43 0.00 23.19\n",
      "13.45 67.08 0.32 34.17\n",
      "12.95 224.12 1.03 36.87\n",
      "13.10 178.15 0.83 36.34\n",
      "warning: significant change in d+l\n",
      "I05189 0.042563 167.5 185.736064725 14\n",
      "13.62 12.57 0.06 30.50\n",
      "13.56 33.97 0.16 32.67\n",
      "13.14 164.61 0.77 36.17\n",
      "13.64 7.74 0.04 29.45\n",
      "warning: significant change in d+l\n",
      "N2903* 0.001834 6.2 7.75525391126 18\n",
      "13.14 164.89 0.77 36.17\n",
      "13.66 2.86 0.01 27.28\n",
      "13.61 15.71 0.08 30.99\n",
      "13.48 56.57 0.27 33.79\n",
      "13.20 144.75 0.68 35.88\n",
      "13.63 9.84 0.05 29.97\n",
      "13.63 10.23 0.05 30.06\n",
      "warning: significant change in d+l\n",
      "N3627* 0.002425 7.6 10.2591762158 25\n",
      "13.63 11.87 0.06 30.38\n",
      "warning: significant change in d+l\n",
      "N3628 0.002812 7.6 11.9000720204 26\n",
      "13.62 13.61 0.07 30.68\n",
      "13.60 20.61 0.10 31.58\n",
      "warning: significant change in d+l\n",
      "N4030 0.004887 17.1 20.7153028505 28\n",
      "13.61 17.37 0.08 31.21\n",
      "13.63 10.08 0.05 30.02\n",
      "13.64 8.53 0.04 29.66\n",
      "13.65 5.75 0.03 28.80\n",
      "warning: significant change in d+l\n",
      "N4826* 0.001361 4.7 5.75296028795 32\n",
      "13.62 13.32 0.06 30.63\n",
      "13.64 6.81 0.03 29.17\n",
      "13.48 57.66 0.28 33.83\n",
      "warning: significant change in d+l\n",
      "N5135 0.013693 51.7 58.4462952635 35\n",
      "13.64 7.22 0.03 29.30\n",
      "warning: significant change in d+l\n",
      "M83 0.001711 3.7 7.23442817505 36\n",
      "13.16 158.29 0.74 36.08\n",
      "13.58 26.90 0.13 32.16\n",
      "13.58 26.71 0.13 32.15\n",
      "warning: significant change in d+l\n",
      "N5713 0.006334 24.0 26.8796820079 39\n",
      "13.59 23.65 0.11 31.88\n",
      "warning: significant change in d+l\n",
      "N5775 0.005607 21.3 23.7808290181 40\n",
      "13.41 79.75 0.38 34.55\n",
      "13.42 76.46 0.36 34.46\n",
      "13.49 55.70 0.27 33.76\n",
      "13.47 60.91 0.29 33.95\n",
      "13.66 0.56 0.00 23.75\n",
      "13.45 67.97 0.32 34.20\n",
      "13.51 48.09 0.23 33.43\n",
      "13.63 11.49 0.06 30.31\n",
      "13.44 68.67 0.33 34.22\n",
      "13.56 33.48 0.16 32.64\n",
      "12.82 268.65 1.22 37.28\n",
      "13.41 77.75 0.37 34.49\n",
      "13.10 176.52 0.82 36.32\n",
      "13.42 76.25 0.36 34.45\n",
      "13.33 102.85 0.49 35.11\n",
      "13.35 97.91 0.46 35.00\n",
      "13.52 43.40 0.21 33.21\n",
      "13.47 60.07 0.29 33.92\n",
      "13.42 75.42 0.36 34.43\n",
      "13.56 32.08 0.15 32.55\n",
      "13.54 39.39 0.19 33.00\n",
      "13.55 34.60 0.17 32.71\n",
      "13.64 7.93 0.04 29.50\n",
      "warning: significant change in d+l\n",
      "N4945 0.001878 3.7 7.94159025601 63\n",
      "13.64 8.44 0.04 29.64\n"
     ]
    }
   ],
   "source": [
    "# calculating all the fluxes, using only their given Dl and L values \n",
    "# rescaling the old data, with the (new luminosity distance/old luminosity distance) squared\n",
    "\n",
    "for i in range(len(alldat)): \n",
    "    dold = alldat[i,0]\n",
    "    dnew=CC_dl.main(float(listz[i,1]),riechers2011) \n",
    "    newds[i]= dnew\n",
    "    err = (dnew - dold)/dold\n",
    "    if(float(listz[i,1])-0.005> 0.0 and err < 0.2): \n",
    "        lozco[i] = np.log10(10.**alldat[i,1]*(dold/dnew)**-2.) \n",
    "        lozIR[i] = np.log10(10.**alldat[i,2]*(dold/dnew)**-2.) \n",
    "        lozfir[i] = np.log10(10.**alldat[i,3]*(dold/dnew)**-2.) \n",
    "        lozhcn[i] = np.log10(10.**alldat[i,5]*(dold/dnew)**-2.)\n",
    "    if(err > 0.1): \n",
    "        print 'warning: significant change in d+l'\n",
    "        print alldatanames[i,0], listz[i][1], dold, dnew, i"
   ]
  },
  {
   "cell_type": "code",
   "execution_count": 95,
   "metadata": {
    "collapsed": false
   },
   "outputs": [
    {
     "data": {
      "text/plain": [
       "(<module 'numpy' from '/usr/lib64/python2.7/site-packages/numpy/__init__.pyc'>,\n",
       " array([ 1.00732095,  1.06145248,  1.01953168,  1.06182931,  1.05269394,\n",
       "         1.01577876,  1.01157044,  1.0094509 ,  1.04414762,  1.05269394,\n",
       "         1.04020663,  1.        ,  1.0576661 ,  1.0733517 ,  1.07518185,\n",
       "         1.03582983,  1.0277572 ,  1.06333336,  0.99033885,  1.07408469,\n",
       "         1.0211893 ,  1.02325246,  1.07481644,  1.05918462,  1.00086772,\n",
       "         0.99825934,  0.99519629,  0.99738638,  1.01072387,  1.00475116,\n",
       "         0.99033885,  1.00817418,  0.96894968,  1.00346053,  0.99825934,\n",
       "         1.04257551,  1.00043408,  1.08098705,  1.01577876,  1.01994668,\n",
       "         1.02036128,  1.09096308,  1.06483222,  1.03862016,  1.04610479,\n",
       "         1.00216606,  1.04960561,  1.04218159,  1.01786772,  1.0576661 ,\n",
       "         1.0277572 ,  1.08134731,  1.05307844,  1.08919837,  1.0824263 ,\n",
       "         1.06707086,  1.06032003,  1.06669855,  1.04999286,  1.05115252,\n",
       "         1.03462846,  1.0277572 ,  1.02448567,  1.01494035,  1.02160272]))"
      ]
     },
     "execution_count": 95,
     "metadata": {},
     "output_type": "execute_result"
    }
   ],
   "source": []
  },
  {
   "cell_type": "code",
   "execution_count": 9,
   "metadata": {
    "collapsed": false
   },
   "outputs": [
    {
     "data": {
      "text/plain": [
       "<matplotlib.collections.PathCollection at 0x555fbd0>"
      ]
     },
     "execution_count": 9,
     "metadata": {},
     "output_type": "execute_result"
    },
    {
     "name": "stderr",
     "output_type": "stream",
     "text": [
      "/usr/lib64/python2.7/site-packages/matplotlib/collections.py:526: FutureWarning: elementwise comparison failed; returning scalar instead, but in the future will perform elementwise comparison\n",
      "  if self._edgecolors == 'face':\n"
     ]
    },
    {
     "data": {
      "image/png": "[encoded data removed]",
      "text/plain": [
       "<matplotlib.figure.Figure at 0x46f7b50>"
      ]
     },
     "metadata": {},
     "output_type": "display_data"
    }
   ],
   "source": [
    "plt.xscale('log')\n",
    "plt.yscale('log')\n",
    "plt.scatter(10**lozco, 10**lozhcn, c='red')"
   ]
  },
  {
   "cell_type": "code",
   "execution_count": null,
   "metadata": {
    "collapsed": false
   },
   "outputs": [],
   "source": []
  },
  {
   "cell_type": "code",
   "execution_count": null,
   "metadata": {
    "collapsed": false
   },
   "outputs": [],
   "source": []
  },
  {
   "cell_type": "markdown",
   "metadata": {},
   "source": []
  },
  {
   "cell_type": "code",
   "execution_count": 10,
   "metadata": {
    "collapsed": false
   },
   "outputs": [
    {
     "data": {
      "text/plain": [
       "<matplotlib.collections.PathCollection at 0x50f26d0>"
      ]
     },
     "execution_count": 10,
     "metadata": {},
     "output_type": "execute_result"
    },
    {
     "data": {
      "image/png": "[encoded data removed]",
      "text/plain": [
       "<matplotlib.figure.Figure at 0x5d01bd0>"
      ]
     },
     "metadata": {},
     "output_type": "display_data"
    }
   ],
   "source": [
    "plt.xscale('log')\n",
    "plt.yscale('log')\n",
    "hcn1 = (alldat[:,5])\n",
    "co1 = (alldat[:,1])\n",
    "fir1 = (alldat[:,3])\n",
    "plt.scatter(10**lozco, 10**lozhcn, c='red', marker='D')\n",
    "plt.scatter(10**co1, 10**hcn1, c='blue', marker='+')"
   ]
  },
  {
   "cell_type": "code",
   "execution_count": null,
   "metadata": {
    "collapsed": false
   },
   "outputs": [],
   "source": []
  },
  {
   "cell_type": "code",
   "execution_count": 11,
   "metadata": {
    "collapsed": false
   },
   "outputs": [
    {
     "data": {
      "text/plain": [
       "<matplotlib.collections.PathCollection at 0x5a4c0d0>"
      ]
     },
     "execution_count": 11,
     "metadata": {},
     "output_type": "execute_result"
    },
    {
     "data": {
      "image/png": "[encoded data removed]",
      "text/plain": [
       "<matplotlib.figure.Figure at 0x5d01e50>"
      ]
     },
     "metadata": {},
     "output_type": "display_data"
    }
   ],
   "source": [
    "plt.xscale('log')\n",
    "plt.yscale('log')\n",
    "plt.scatter(10**hcn1,10**fir1,marker='o',c='red')\n",
    "plt.scatter(10**lozhcn,10**lozfir,marker='+', c='black')"
   ]
  },
  {
   "cell_type": "code",
   "execution_count": 12,
   "metadata": {
    "collapsed": false
   },
   "outputs": [
    {
     "data": {
      "text/plain": [
       "<matplotlib.collections.PathCollection at 0x645fe10>"
      ]
     },
     "execution_count": 12,
     "metadata": {},
     "output_type": "execute_result"
    },
    {
     "data": {
      "image/png": "[encoded data removed]",
      "text/plain": [
       "<matplotlib.figure.Figure at 0x55590d0>"
      ]
     },
     "metadata": {},
     "output_type": "display_data"
    }
   ],
   "source": [
    "plt.xscale('log')\n",
    "plt.yscale('log')\n",
    "plt.scatter(10**hcn1/10**co1,10**fir1,marker='o',c='red')\n",
    "plt.scatter(10**lozhcn/10**lozco,10**lozfir,marker='+', c='black')"
   ]
  },
  {
   "cell_type": "code",
   "execution_count": null,
   "metadata": {
    "collapsed": false
   },
   "outputs": [],
   "source": []
  },
  {
   "cell_type": "code",
   "execution_count": 13,
   "metadata": {
    "collapsed": false
   },
   "outputs": [
    {
     "name": "stdout",
     "output_type": "stream",
     "text": [
      "5.04 3756.62 8.29 44.58\n",
      "5.21 3780.57 8.34 44.60\n"
     ]
    }
   ],
   "source": [
    "z = 1.197 # redshift \n",
    "nu_rest = 177.2612 # rest frequency in GHz \n",
    "dl_stan = CC_dl.main(z,standard)\n",
    "dl = CC_dl.main(z,riechers2011)"
   ]
  },
  {
   "cell_type": "code",
   "execution_count": 14,
   "metadata": {
    "collapsed": false
   },
   "outputs": [
    {
     "name": "stdout",
     "output_type": "stream",
     "text": [
      "(23.439155610863576, 27.03219731689609)\n"
     ]
    }
   ],
   "source": [
    "# The beam sizes for Herschel 100, 250, 350 and 500 $\\mu$m bands are -- \n",
    "# The nearby sources XX and YY are XX and YY arcsec separated, respectively,\n",
    "# These will be a concern for the bands XX \n",
    "# To check, \n",
    "\n",
    "# (i) Compare obtained values in radio-FIR correlation - for all three of the sources. \n",
    "# (ii) Remove the last few bands and see how the fits change for each \n",
    "\n",
    "# main source SDSS J141914.95+524929.5  \n",
    "c1 = SkyCoord('14h19m14.95s','52d49m29.5s', frame='fk5') # ned coordinates for each \n",
    "\n",
    "# other EGS J141917.4+524922, z = 1.8, \n",
    "c2 = SkyCoord('14h19m17.4s','52d49m22s', frame='fk5')  \n",
    "\n",
    "# third source EGSIRAC J141912.03+524924.0 \n",
    "\n",
    "c3 = SkyCoord('14h19m12.03s','52d49m24.0s', frame='fk5') \n",
    "\n",
    "sep1 = c1.separation(c2).arcsec\n",
    "sep2 = c1.separation(c3).arcsec\n",
    "print (sep1,sep2)\n",
    "\n",
    "# Herschel beams FWHM in '' \n",
    "\n",
    "beam100 = 9  \n",
    "beam160 = 15\n",
    "beam250 = 17.6 \n",
    "beam350 = 23.9 \n",
    "beam500 = 35.2 \n",
    "\n",
    "# so we can expect blending in the last two, especially at 500$\\mu$m. \n",
    "# Use HIPE and timelinefitter to extract the fluxes \n",
    "# Even though the Hershel fluxes are from the de-blended catalog. \n",
    "# So, check how the results change when remove the last one, then the last 2. \n",
    "# Get the IR fluxes from the other two. Check if they are identified in either Herschel or Radio \n",
    "\n"
   ]
  },
  {
   "cell_type": "markdown",
   "metadata": {},
   "source": [
    "OBSID = 1342190294   #test obsID \n",
    "from herschel.ia.pal.pool.hsa import MyHSAConnection\n",
    "hsaStore = ProductStorage(MyHSAPool.getNewInstance(MyHSAConnection.ON))\n",
    "obsid_v1342190294 = hsaStore.load('urn:hsa:herschel.ia.obs.ObservationContext:643488').product\n",
    "del(hsaStore)\n",
    "obs=obsid_v\n",
    "\n",
    "sourceList2 = sourceExtractor(image=PSW, algorithm=\"daophot\", detThreshold=7.0, fwhm=22.0, pixelRegion=1.5, beamArea=495.0, fluxPriorsLambda=0.0, fitBackground=True, useSignalToNoise=False, fluxPriorsMin=1.0E-4, fluxPriorsMax=1.0E8, getFilteredMap=False, getPrf=False, doApertureCorrection=True)\n",
    "\n",
    "srcl=sourceExtractorTimeline(input=obs.level1,array='PSW',rPeak=22.0, inputSourceList=sourceList2,allowVaryBackground=True, useBackInFit=True,rBackground=Double1d([70,74]))\n",
    "\n",
    "srcl2=sourceExtractorTimeline(input=obs.level1,array='PMW',rPeak=30.0, inputSourceList=sourceList2,allowVaryBackground=True, useBackInFit=True,rBackground=Double1d([98,103]))\n",
    "\n",
    "srcl3=sourceExtractorTimeline(input=obs.level1,array='PLW',rPeak=42.0, inputSourceList=sourceList2,allowVaryBackground=True, useBackInFit=True,rBackground=Double1d([140,147]))\n"
   ]
  },
  {
   "cell_type": "code",
   "execution_count": 15,
   "metadata": {
    "collapsed": false
   },
   "outputs": [],
   "source": [
    "# Calculating the IR and FIR luminosities from magphys_highz output \n",
    "magphys_out = np.loadtxt('/home/ag/DOCS/PROJECT/PdBI/magphys/magphys_highz/13004291.sed.spec',dtype='double')\n",
    "magphys_in_temp = np.loadtxt('/home/ag/DOCS/PROJECT/PdBI/magphys/magphys_highz/observations_full.dat.complete',dtype='double')\n",
    "magphys_in = magphys_in_temp[2::2]\n",
    "filters = np.loadtxt('/home/ag/DOCS/PROJECT/PdBI/magphys/magphys_highz/filters.dat.orig',dtype='string')\n",
    "lambs_filts = filters[:,1].astype(np.double)\n",
    "listLambAng = 10.**(magphys_out[:,0])\n",
    "attAF = magphys_out[:,1] # over this range because the fit fails at the edges \n",
    "attUF = magphys_out[:,2]\n",
    "listLambMic  = listLambAng/1.e4\n",
    "attAFL = np.zeros((np.shape(attAF)))\n",
    "attUFL = np.zeros((np.shape(attUF)))\n",
    "attAFjy = np.zeros((np.shape(attAF)))\n",
    "attUFjy = np.zeros((np.shape(attUF)))\n",
    "\n",
    "# converting to Jy \n",
    "attAFjy = (10.**(attAF)*(1.+z) *listLambMic/(4.*pi*dl_stan**2) /c)\n",
    "attUFjy = (10.**(attUF)*(1.+z) *listLambMic/(4.*pi*dl_stan**2) /c)\n",
    "attAFL = attAF  + np.log10(listLambAng)\n",
    "attUFL = np.log10(10.**(attUF) *listLambAng)\n",
    "\n",
    "L_flux=np.log10((1.+z)*magphys_in*3.e+14/lambs_filts)"
   ]
  },
  {
   "cell_type": "code",
   "execution_count": null,
   "metadata": {
    "collapsed": false
   },
   "outputs": [],
   "source": []
  },
  {
   "cell_type": "code",
   "execution_count": 16,
   "metadata": {
    "collapsed": false
   },
   "outputs": [
    {
     "data": {
      "text/plain": [
       "[<matplotlib.lines.Line2D at 0x6a83c90>]"
      ]
     },
     "execution_count": 16,
     "metadata": {},
     "output_type": "execute_result"
    },
    {
     "data": {
      "image/png": "[encoded data removed]",
      "text/plain": [
       "<matplotlib.figure.Figure at 0x6043090>"
      ]
     },
     "metadata": {},
     "output_type": "display_data"
    }
   ],
   "source": [
    "fig = plt.figure()\n",
    "plt.xscale('log')\n",
    "plt.xlim(0.7,1e6)\n",
    "plt.ylim(4,14)\n",
    "\n",
    "plt.plot(listLambAng,attAF)\n",
    "#plt.plot(listLambMic,attUFjy)\n",
    "#plt.plot(lambs_filts,1.09*L_flux, marker='o')"
   ]
  },
  {
   "cell_type": "code",
   "execution_count": 17,
   "metadata": {
    "collapsed": false
   },
   "outputs": [],
   "source": [
    "def sed_integral(att,lamb1,lamb2): \n",
    "    [lambs, flux] = att \n",
    "    integ = 0. \n",
    "    indx1 = find_nearest(lambs,lamb1)\n",
    "    indx2 = find_nearest(lambs,lamb2)\n",
    "    print 'Found indices:', indx1, indx2\n",
    "    print 'Corresponding to', lambs[indx1], lambs[indx2]\n",
    "    for i in range(indx1,indx2): \n",
    "        delL = lambs[i] - lambs[i-1]\n",
    "        integ = integ + flux[i]*delL\n",
    "    print 'Integrated SED is', integ, 'in L_{\\odot}'\n",
    "    return integ "
   ]
  },
  {
   "cell_type": "code",
   "execution_count": 18,
   "metadata": {
    "collapsed": false
   },
   "outputs": [],
   "source": [
    "# Radio-FIR correlation \n",
    "# Ivison 2010\n",
    "\n",
    "# S_IR/(W m^-2) = 10^(12.57 + 2.54) *S_{1.4GHz}/(W m^-2 Hz^-1) \n",
    "\n",
    "\n",
    "def ivison_fir_radio(s1400,dl): \n",
    "    \n",
    "    sir = 10**(2.41 + np.log10(s1400) ) *3.25e12\n",
    "    print 'In units of watts m^-2, from 8-1000 \\mum; input in units of Wm^-2 Hz^-1 '\n",
    "    Lir = sir*(4.*pi*(dl*3.086e22)**2)/(3.828*10**26) # converting from Wm^-2 to L\\odot\n",
    "    print 'Luminosity', Lir, '\\nLog Luminosity: ', np.log10(Lir)\n",
    "    return np.log10(Lir)\n",
    "\n",
    "def yun2001(s1400,dl): \n",
    "    ffir=  10**(2.34 + np.log10(s1400) ) *3.25e12\n",
    "    print 'In units of watts m^-2, the FIR luminosity'\n",
    "    Lffir = ffir*(4.*pi*(dl*3.086e22)**2)/(3.828*10**26) # converting from Wm^-2 to L\\odot\n",
    "    print 'Luminosity', Lffir, '\\nLog Luminosity: ', np.log10(Lffir)\n",
    "    return np.log10(Lffir)\n",
    "    # defined as LLFIR = 1.26e-14(2.58*S_60 + S100) W^-2, Ss are IRAS fluxes in Jy \n"
   ]
  },
  {
   "cell_type": "code",
   "execution_count": 19,
   "metadata": {
    "collapsed": false
   },
   "outputs": [
    {
     "name": "stdout",
     "output_type": "stream",
     "text": [
      "Found indices: 12598 12644\n",
      "Corresponding to 932846.099582 2691324.09759\n",
      "Integrated SED is 2.68339179378e+12 in L_{\\odot}\n",
      "Found indices: 8240 12723\n",
      "Corresponding to 175781.837512 21552566.809\n",
      "Integrated SED is 3.95073859149e+12 in L_{\\odot}\n"
     ]
    }
   ],
   "source": [
    "LFIR = sed_integral([listLambAng,10.**attAF],(425000.)*(1.+z),1225000.*(1.+z)) # this is calculated LFIR from SED fit\n",
    "LIR = sed_integral([listLambAng,10.**attAF],80000.*(1.+z),10000000*(1.+z))"
   ]
  },
  {
   "cell_type": "code",
   "execution_count": 20,
   "metadata": {
    "collapsed": false,
    "scrolled": true
   },
   "outputs": [
    {
     "name": "stdout",
     "output_type": "stream",
     "text": [
      "In units of watts m^-2, from 8-1000 \\mum; input in units of Wm^-2 Hz^-1 \n",
      "Luminosity 4.86454790426e+12 \n",
      "Log Luminosity:  12.6870424845\n",
      "In units of watts m^-2, the FIR luminosity\n",
      "Luminosity 4.14040175997e+12 \n",
      "Log Luminosity:  12.6170424845\n"
     ]
    }
   ],
   "source": [
    "LIR_pred = ivison_fir_radio(270.e-32, dl) # the 20cm integrated flux density is 0.270 mJy, and output is integrated LIR \n",
    "LFIR_pred = yun2001(270.e-32, dl) # this is supposed to be the LFIR luminosity (between 42.5 and 122.5 microns?)"
   ]
  },
  {
   "cell_type": "code",
   "execution_count": 21,
   "metadata": {
    "collapsed": false
   },
   "outputs": [
    {
     "name": "stdout",
     "output_type": "stream",
     "text": [
      "log(LIR) (8-1000 microns) 12.5966782947 ; predicted 12.6870424845\n",
      "log(LFIR) (42-122 microns) 12.4286840873 ; predicted 12.6170424845\n"
     ]
    }
   ],
   "source": [
    "print 'log(LIR) (8-1000 microns)', np.log10(LIR), '; predicted', LIR_pred \n",
    "print 'log(LFIR) (42-122 microns)', np.log10(LFIR), '; predicted', LFIR_pred"
   ]
  },
  {
   "cell_type": "code",
   "execution_count": 22,
   "metadata": {
    "collapsed": false
   },
   "outputs": [
    {
     "name": "stdout",
     "output_type": "stream",
     "text": [
      "Found indices: 12610 12701\n",
      "Corresponding to 1229880.73862 9996362.57726\n",
      "Integrated SED is 2.88156133931e+12 in L_{\\odot}\n"
     ]
    },
    {
     "data": {
      "text/plain": [
       "0.72937281791199648"
      ]
     },
     "execution_count": 22,
     "metadata": {},
     "output_type": "execute_result"
    }
   ],
   "source": [
    "sed_integral([listLambAng,10.**attAF],1225000,10000000)/LIR"
   ]
  },
  {
   "cell_type": "code",
   "execution_count": 23,
   "metadata": {
    "collapsed": false
   },
   "outputs": [],
   "source": [
    "LHCN21  =  1.45e9 \n",
    "LCO21 = 4.99e10\n",
    "LCO32 = 3.93e10"
   ]
  },
  {
   "cell_type": "code",
   "execution_count": 24,
   "metadata": {
    "collapsed": false
   },
   "outputs": [
    {
     "name": "stdout",
     "output_type": "stream",
     "text": [
      "3.26731608507\n",
      "1.53673254339\n"
     ]
    }
   ],
   "source": [
    "print np.log10(LFIR/LHCN21)\n",
    "print np.log10(LCO21/LHCN21)"
   ]
  },
  {
   "cell_type": "code",
   "execution_count": 25,
   "metadata": {
    "collapsed": false
   },
   "outputs": [
    {
     "data": {
      "text/plain": [
       "0.67921269191464073"
      ]
     },
     "execution_count": 25,
     "metadata": {},
     "output_type": "execute_result"
    }
   ],
   "source": [
    "LFIR/LIR "
   ]
  },
  {
   "cell_type": "code",
   "execution_count": null,
   "metadata": {
    "collapsed": false
   },
   "outputs": [],
   "source": []
  },
  {
   "cell_type": "code",
   "execution_count": null,
   "metadata": {
    "collapsed": false
   },
   "outputs": [],
   "source": []
  },
  {
   "cell_type": "code",
   "execution_count": 26,
   "metadata": {
    "collapsed": true
   },
   "outputs": [],
   "source": [
    "# This is equal to 4.0957 \\lsun "
   ]
  },
  {
   "cell_type": "code",
   "execution_count": 27,
   "metadata": {
    "collapsed": false
   },
   "outputs": [
    {
     "data": {
      "text/plain": [
       "12.612328138124974"
      ]
     },
     "execution_count": 27,
     "metadata": {},
     "output_type": "execute_result"
    }
   ],
   "source": [
    "np.log10(4.0957e+12 )"
   ]
  },
  {
   "cell_type": "code",
   "execution_count": 28,
   "metadata": {
    "collapsed": false
   },
   "outputs": [
    {
     "data": {
      "text/plain": [
       "0.64540224352166697"
      ]
     },
     "execution_count": 28,
     "metadata": {},
     "output_type": "execute_result"
    }
   ],
   "source": [
    "(LFIR)/10**(1.13*np.log10(LCO21) + 0.53)"
   ]
  },
  {
   "cell_type": "code",
   "execution_count": 29,
   "metadata": {
    "collapsed": false
   },
   "outputs": [
    {
     "data": {
      "text/plain": [
       "2.6833917937769396"
      ]
     },
     "execution_count": 29,
     "metadata": {},
     "output_type": "execute_result"
    }
   ],
   "source": [
    "LFIR/1.e12"
   ]
  },
  {
   "cell_type": "code",
   "execution_count": 30,
   "metadata": {
    "collapsed": false
   },
   "outputs": [
    {
     "name": "stdout",
     "output_type": "stream",
     "text": [
      "Found indices: 6498 12701\n",
      "Corresponding to 80190.5145174 9996362.57726\n",
      "Integrated SED is 4.01995353776e+12 in L_{\\odot}\n"
     ]
    },
    {
     "data": {
      "text/plain": [
       "12.604221033578884"
      ]
     },
     "execution_count": 30,
     "metadata": {},
     "output_type": "execute_result"
    }
   ],
   "source": [
    "np.log10(sed_integral([listLambAng,10.**attAF],80000.,10000000.))"
   ]
  },
  {
   "cell_type": "markdown",
   "metadata": {
    "collapsed": true
   },
   "source": [
    "Now plotting the following: \n",
    "\n",
    "-------\n",
    "\n",
    "* LHCN vs LCO \n",
    "* LFIR/LHCN, \n",
    "* LFIR vs LHCN/LCO \n",
    " "
   ]
  },
  {
   "cell_type": "markdown",
   "metadata": {},
   "source": [
    "### defining all the archival L-CO values; \n",
    "\n",
    "\n",
    "Now for the HCN flux values\n",
    "#######################\n",
    "\n",
    "all L values in  10^9 K km/s pc^-2;LFIR in 10^12 Lsun \n",
    "\n",
    "| Source      | z      | HCN | HCN_err| CO   | CO_err | LFIR| Ref |\n",
    "| :-----------|-------:|----:|------:|------:|--------:|---------|\n",
    "| J1409+5628  | 2.583  | 6.9 | 2.3  | 85.5 | 22.17  | 20.1 | Carilli 2005, Gao 2007  \n",
    "| **APM08279**    | 3.911  | **11.6**| 1.4  | 25.2 | 2.1    | 0.29  | HCN 5-4  (uncorrected), Riechers 2009, Gao 2007  \n",
    "| **Cloverleaf**  | 2.5511 | **7.74**| 1.49 | 39.3 | 1.1    | 5.9 | (corrected), Riechers 2011, Gao 2007  \n",
    "| F10214+4724 | 2.286  | 1.80| 0.36 | 5.77 | 0.49   | 4.0 |(corrected), Riechers 2011, Gao 2007\n",
    "| J0911+0551  | 2.7961 |< 0.80  | 0.27 * | 3.39 | 0.48    | 2.5 |  corrected \n",
    "| J04135+10277| 2.846  |< 30.63 | 10.2 * | 184  | 23      | 26.1 |corrected\n",
    "| MG 0751+2716| 3.1990 |< 1.03  | 0.35 * | 14.9 | 2.0     | 3.2 |Carilli 2005, Riechers 2011|\n",
    "| SMM J16359B | 2.517  | 0.62   | 0.15 * | 5.5  | 0.6     | 1.1 | Thomson 2012, Gao 2007, corrected\n",
    "| SMM J02399  | 2.8083 | < 47.4 | 12 *   | 48   | 8       | 33.2 | Greve 2005, corrected \n",
    "| BR1202-0725 | 4.693  | < 43.9 | 14 *   | 103.9 |  10.1  | 65.7 | Isaak 2004,\n",
    "| J1148+5251  | 6.419  | < 3.3  | 1.1 *  | < 142 | 47 *   | 23.9 | Riechers 2007\n",
    "| J14011+0252 | 2.565  | < 1.6  | 0.5 *  | 100   |  9.38  | 7.1 | Carilli 2005\n",
    "| J02396-0134 | 1.062  | < 2.9  | 0.9 *  | 20.6  | 2      | 7.07 | Gao 2007 corrected for \\mu = 2.5\n",
    "| Eyelash     | 2.3259 | < 4.5  | 1.5 *  | 17.5  |  0.9   |  2.7| corrected, danielson 2012\n",
    "| B1938+666   | 0.8809 | 114.3  | 45.2   | 38  | 4.6 | 0.22 | Riechers 2011   \n",
    "| ESG13004291 | 1.197  | 1.45  | 0.7 | 49.9 | 5.0 | 2.68 | Me\n",
    "arr = [17.,0.25,5.0,3.4,2.1,22.,2.7,0.93,28.,55.,20.,1.0, 6.1, 2.3, 0.19]\n",
    "modified LFIR = array([ 20.11616292,   0.29788979,   5.9150996 ,   4.01344323,          2.4886348 ,  26.07979403,   3.20720712,   1.09992054,         33.18443419,  65.69572294,  23.97159281,   7.0988656 ,          7.07068305,   2.71594199,  0.21921826       ]\n",
    "\n",
    "All LFIR values from Gao2007, except J14011 which is from Ivison 2001. \n",
    "\n",
    "\\* error not provided "
   ]
  },
  {
   "cell_type": "code",
   "execution_count": null,
   "metadata": {
    "collapsed": true
   },
   "outputs": [],
   "source": [
    " \n",
    "    "
   ]
  },
  {
   "cell_type": "code",
   "execution_count": 122,
   "metadata": {
    "collapsed": false
   },
   "outputs": [
    {
     "name": "stdout",
     "output_type": "stream",
     "text": [
      "2.32 5526.84 7.48 46.48\n",
      "2.58 6012.11 8.13 46.67\n",
      "1.45 6632.70 6.55 47.56\n",
      "1.61 7240.20 7.15 47.75\n",
      "2.35 5493.15 7.50 46.45\n",
      "2.61 5974.74 8.16 46.63\n",
      "2.63 5195.50 7.67 46.16\n",
      "2.93 5644.79 8.33 46.34\n",
      "2.13 5741.37 7.33 46.69\n",
      "2.37 6250.12 7.98 46.88\n",
      "2.09 5789.11 7.30 46.74\n",
      "2.32 6303.11 7.95 46.92\n",
      "1.83 6103.06 7.05 47.04\n",
      "2.04 6651.69 7.68 47.23\n",
      "2.38 5456.66 7.52 46.42\n",
      "2.65 5934.28 8.18 46.60\n",
      "2.12 5753.12 7.32 46.70\n",
      "2.35 6263.17 7.97 46.89\n",
      "1.16 7097.77 6.04 48.03\n",
      "1.29 7757.33 6.61 48.23\n",
      "0.78 7852.49 5.13 48.83\n",
      "0.87 8596.96 5.62 49.02\n",
      "2.33 5507.88 7.49 46.47\n",
      "2.60 5991.08 8.15 46.65\n",
      "5.14 3221.64 7.57 44.11\n",
      "5.69 3468.51 8.16 44.27\n",
      "2.59 5242.43 7.64 46.21\n",
      "2.87 5696.80 8.30 46.39\n",
      "5.84 2803.42 7.23 43.61\n",
      "6.45 3011.27 7.76 43.77\n"
     ]
    },
    {
     "data": {
      "text/plain": [
       "array([ 20.11616292,   0.29788979,   5.9150996 ,   4.01344323,\n",
       "         2.4886348 ,  26.07979403,   3.20720712,   1.09992054,\n",
       "        33.18443419,  65.69572294,  23.97159281,   7.0988656 ,\n",
       "         7.07068305,   2.71594199,   0.21921826,   2.68      ])"
      ]
     },
     "execution_count": 122,
     "metadata": {},
     "output_type": "execute_result"
    }
   ],
   "source": [
    "# defining all the high redshift data\n",
    "# the columns are z,  hcn, hcn_err,co, co_err, flag (to signify upper limits), lfir \n",
    "\n",
    "hiz_lums = np.zeros((16,8))  \n",
    "hiz_lums[:,0] = [2.583, 3.911, 2.5511, 2.286, 2.7961, 2.846, 3.1990, 2.517, 2.8083, 4.693, 6.419, 2.565, 1.062, 2.3259, 0.8809, 1.197 ]\n",
    "hiz_lums[:,1] = [6.9, 11.6, 7.74, 1.80, 0.80, 30.63, 1.03, 0.62, 47.4, 43.9, 3.3, 1.6, 2.9, 4.5, 114.3, 1.45 ] \n",
    "hiz_lums[:,2] = [2.3, 1.4, 1.49, 0.36, 0.27, 10.2, 0.35, 0.15, 12, 14, 1.1, 0.5, 0.9, 1.5, 45.2,0.7]\n",
    "hiz_lums[:,3] = [85.5, 25.2, 39.3, 5.77, 3.39, 184, 14.9, 5.5,48, 103.9, 142, 100. , 20.6, 17.5, 38.,49.9]\n",
    "hiz_lums[:,4] = [22.17, 2.1, 1.1, 0.49, 0.48, 23., 2.0, 0.6, 8., 10.1, 47., 9.38, 2., 0.9, 4.6, 5.0]\n",
    "hiz_lums[:,7] = [1,1,1,1,-1,-1,-1,1,-1,-1,-1,-1,-1,-1,1, 1]\n",
    "\n",
    "arrFIR = [17.,0.25,5.0,3.4,2.1,22.,2.7,0.93,28.,55.,20.,6.0, 6.1, 2.3, 0.19]\n",
    "for i in range(0,15):\n",
    "    dold = CC_dl.main(hiz_lums[i,0],gao2007)\n",
    "    dnew = CC_dl.main(hiz_lums[i,0],riechers2011)\n",
    "    hiz_lums[i,5] = hiz_lums[i,1]/hiz_lums[i,3]\n",
    "    hiz_lums[i,6] = arrFIR[i]*(dold/dnew)**-2\n",
    "\n",
    "hiz_lums[15,6] = 2.68\n",
    "hiz_lums[15,5] = hiz_lums[15,1]/hiz_lums[15,3]\n",
    "hiz_lums[:,6]\n",
    "# hiz_lums[15,:]"
   ]
  },
  {
   "cell_type": "code",
   "execution_count": 123,
   "metadata": {
    "collapsed": false
   },
   "outputs": [
    {
     "data": {
      "text/plain": [
       "array([ 10.17,  11.52,  10.46,  11.53,  11.29,  10.37,  10.27,  10.22,\n",
       "        11.07,  11.29,  10.97,  10.  ,  11.42,  11.84,  11.89,  10.86,\n",
       "        10.66,  11.57,   9.78,  11.86,  10.5 ,  10.55,  11.88,  11.46,\n",
       "        10.02,   9.96,   9.89,   9.94,  10.25,  10.11,   9.78,  10.19,\n",
       "         9.31,  10.08,   9.96,  11.03,  10.01,  12.05,  10.37,  10.47,\n",
       "        10.48,  12.33,  11.61,  10.93,  11.12,  10.05,  11.21,  11.02,\n",
       "        10.42,  11.42,  10.66,  12.06,  11.3 ,  12.28,  12.09,  11.67,\n",
       "        11.49,  11.66,  11.22,  11.25,  10.83,  10.66,  10.58,  10.35,\n",
       "        10.51])"
      ]
     },
     "execution_count": 123,
     "metadata": {},
     "output_type": "execute_result"
    }
   ],
   "source": [
    "fir1"
   ]
  },
  {
   "cell_type": "code",
   "execution_count": 125,
   "metadata": {
    "collapsed": false
   },
   "outputs": [
    {
     "data": {
      "text/plain": [
       "[<matplotlib.lines.Line2D at 0xcda6fd0>]"
      ]
     },
     "execution_count": 125,
     "metadata": {},
     "output_type": "execute_result"
    },
    {
     "data": {
      "image/png": "[encoded data removed]",
      "text/plain": [
       "<matplotlib.figure.Figure at 0xd8d40d0>"
      ]
     },
     "metadata": {},
     "output_type": "display_data"
    }
   ],
   "source": [
    "x = np.log10(np.append(1.e9*hiz_lums[:15,1],10**lozhcn))\n",
    "y = np.log10(np.append(1.e12*hiz_lums[:15,6],10**lozfir))\n",
    "plt.scatter(x,y)\n",
    "m,b = np.polyfit(x,y, 1)\n",
    "plt.plot(x,m*x+b, '-')"
   ]
  },
  {
   "cell_type": "code",
   "execution_count": 126,
   "metadata": {
    "collapsed": false
   },
   "outputs": [
    {
     "data": {
      "text/plain": [
       "array([ 13.30354514,  11.47405562,  12.77196206,  12.60351712,\n",
       "        12.39596117,  13.41630416,  12.50612701,  12.04136131,\n",
       "        13.52093442,  13.8175371 ,  13.37969689,  12.85118895,\n",
       "        12.84946137,  12.43392049,  11.34087672])"
      ]
     },
     "execution_count": 126,
     "metadata": {},
     "output_type": "execute_result"
    }
   ],
   "source": [
    "np.log10(1.e12*hiz_lums[:15,6])"
   ]
  },
  {
   "cell_type": "code",
   "execution_count": 131,
   "metadata": {
    "collapsed": false,
    "scrolled": true
   },
   "outputs": [
    {
     "data": {
      "image/png": "[encoded data removed]",
      "text/plain": [
       "<matplotlib.figure.Figure at 0xd73c750>"
      ]
     },
     "metadata": {},
     "output_type": "display_data"
    }
   ],
   "source": [
    "plt.xscale('log')\n",
    "plt.yscale('log')\n",
    "plt.title('HCN-FIR correlation')\n",
    "plt.ylabel('L$_{FIR}$ (K km/s pc$^{-2}$)')\n",
    "plt.xlabel('L$_{HCN}$ (K km/s pc$^{-2}$)')\n",
    "plt.text(10**7, 10**13, 'Best fit: ')\n",
    "plt.scatter(1.e9*hiz_lums[:14,1],1.e12*hiz_lums[:14,6], c='black')\n",
    "plt.scatter(10**lozhcn,10**lozfir,marker='o',c='red')\n",
    "plt.scatter(1.e9*hiz_lums[15,1],1.e12*hiz_lums[15,6], marker='D', c='yellow')\n",
    "plt.plot(10**x, 10**(m*x +b), '-')\n",
    "plt.savefig('/home/ag/DOCS/PROJECT/PdBI/Paper/plot/hcn-fir.eps', format='eps', dpi=500)"
   ]
  },
  {
   "cell_type": "markdown",
   "metadata": {},
   "source": [
    "LFIR-LHCN correlation for the currently known sample of high redshift (XX marker) and low-redshift( YY marker) sources \\citep{gao2004,gao2007}. EGS 13004291 is shown as ZZ. The observed HCN luminosity is consistent with the extant FIR-HCN relation. The best fit is given by .. Upper limits have been denoted by ..  "
   ]
  },
  {
   "cell_type": "code",
   "execution_count": 155,
   "metadata": {
    "collapsed": false
   },
   "outputs": [
    {
     "data": {
      "text/plain": [
       "456.17660494207973"
      ]
     },
     "execution_count": 155,
     "metadata": {},
     "output_type": "execute_result"
    }
   ],
   "source": [
    "sfr =  LFIR*1.e-10 # chapman 2000 \n",
    "sfr # Kennicutt 1998 \n",
    "# or \n",
    "sfr = LFIR*1.7e-10\n",
    "sfr"
   ]
  },
  {
   "cell_type": "code",
   "execution_count": 132,
   "metadata": {
    "collapsed": false
   },
   "outputs": [
    {
     "data": {
      "text/plain": [
       "<matplotlib.collections.PathCollection at 0xe13f510>"
      ]
     },
     "execution_count": 132,
     "metadata": {},
     "output_type": "execute_result"
    },
    {
     "data": {
      "image/png": "[encoded data removed]",
      "text/plain": [
       "<matplotlib.figure.Figure at 0xd54a350>"
      ]
     },
     "metadata": {},
     "output_type": "display_data"
    }
   ],
   "source": [
    "plt.xscale('log')\n",
    "plt.yscale('log')\n",
    "plt.scatter(hiz_lums[:14,5],1.e12*hiz_lums[:14,6])\n",
    "plt.scatter(10**lozhcn/10**lozco,10**lozfir,marker='o',c='red')\n",
    "plt.scatter(hiz_lums[15,5],1.e12*hiz_lums[15,6], marker='D', c='yellow')"
   ]
  },
  {
   "cell_type": "markdown",
   "metadata": {},
   "source": [
    "The LFIR (equivalnt to the star formation rate) vs the dense gas fraction ( ~ LHCN/LCO). At low redshifts, the slope is much steeper, indicating \n"
   ]
  },
  {
   "cell_type": "code",
   "execution_count": 721,
   "metadata": {
    "collapsed": false
   },
   "outputs": [
    {
     "name": "stdout",
     "output_type": "stream",
     "text": [
      "['N5055*' '7.3' '8.932' '10.04'] ['N5055' '0.001614'] 0.0116949939102\n",
      "['N3147' '39.5' '9.771' '10.79'] ['N3147' '0.009346'] 0.015240527538\n",
      "['N3627*' '7.6' '8.643' '10.10'] ['N3627' '0.002425'] 0.0181970085861\n",
      "['N891' '10.0' '9.110' '10.46'] ['N891' '0.001761'] 0.0199067333899\n",
      "['N3556*' '10.6' '8.652' '10.13'] ['N3556' '0.002332'] 0.0200447202737\n",
      "['N1530' '35.4' '9.362' '10.67'] ['N1530' '0.008209'] 0.0211348903984\n",
      "['N1144' '118.0' '10.037' '11.40'] ['N1144' '0.028847'] 0.0244906324184\n",
      "['M51' '9.6' '9.288' '10.62'] ['M51' '0.002000'] 0.02576321157\n",
      "['N4826*' '4.7' '8.119' '9.41'] ['N4826' '0.001361'] 0.0264240875732\n",
      "['N5713' '24.0' '8.910' '10.62'] ['N5713' '0.006334'] 0.0270395836411\n",
      "['N1055**' '14.8' '9.123' '10.31'] ['N1055' '0.003314'] 0.028119008304\n",
      "['Arp55' '162.7' '10.097' '11.66'] ['Arp55' '0.039300'] 0.0304088502568\n",
      "['N3628' '7.6' '8.851' '10.00'] ['N3628' '0.002812'] 0.0338844156139\n",
      "['N4414' '9.3' '8.666' '9.91'] ['N4414' '0.002388'] 0.0345143739336\n",
      "['N4030' '17.1' '9.182' '10.33'] ['N4030' '0.004887'] 0.0357272838152\n",
      "['N660*' '14.0' '8.863' '10.57'] ['N660' '0.002835'] 0.036140986264\n"
     ]
    },
    {
     "data": {
      "text/plain": [
       "array(['M51', '9.6', '9.288', '10.62', '10.51', '1.34', '7.699', '-1.59',\n",
       "       '108.6', '291.7', '1.80'], \n",
       "      dtype='|S7')"
      ]
     },
     "execution_count": 721,
     "metadata": {},
     "output_type": "execute_result"
    }
   ],
   "source": [
    "lozrat_hcn_co = 10**lozhcn/10**lozco\n",
    "sorted_hcn_co_lozrat = np.sort(10**lozhcn/10**lozco)\n",
    "for i in range(0,16): \n",
    "    temp = find_nearest(lozrat_hcn_co,sorted_hcn_co_lozrat[i])\n",
    "    print alldatanames[temp][0:4], listz[temp], sorted_hcn_co_lozrat[i]\n",
    "alldatanames[64]"
   ]
  },
  {
   "cell_type": "code",
   "execution_count": null,
   "metadata": {
    "collapsed": true
   },
   "outputs": [],
   "source": [
    "# Get the gas mass, the star formation rate from the LFIR, "
   ]
  },
  {
   "cell_type": "code",
   "execution_count": 124,
   "metadata": {
    "collapsed": false
   },
   "outputs": [
    {
     "name": "stdout",
     "output_type": "stream",
     "text": [
      "2.48 5921.49 8.01 46.63\n",
      "2.58 6012.11 8.13 46.67\n",
      "[71.0, 0.27, 0.73]\n",
      "2.58 6012.11 8.13 46.67\n",
      "2.61 5974.74 8.16 46.63\n",
      "2.93 5644.79 8.33 46.34\n",
      "2.37 6250.12 7.98 46.88\n",
      "2.32 6303.11 7.95 46.92\n",
      "1.96 6539.73 7.55 47.19\n",
      "2.04 6651.69 7.68 47.23\n",
      "2.55 5846.30 8.06 46.57\n",
      "2.65 5934.28 8.18 46.60\n",
      "2.65 5934.28 8.18 46.60\n",
      "2.55 5846.30 8.06 46.57\n",
      "2.65 5934.28 8.18 46.60\n",
      "1.29 7757.33 6.61 48.23\n",
      "1.16 7097.77 6.04 48.03\n",
      "1.29 7757.33 6.61 48.23\n",
      "1.29 7757.33 6.61 48.23\n",
      "0.87 8596.96 5.62 49.02\n",
      "2.60 5991.08 8.15 46.65\n",
      "5.69 3468.51 8.16 44.27\n",
      "5.14 3221.64 7.57 44.11\n",
      "5.69 3468.51 8.16 44.27\n",
      "5.51 3451.72 8.12 44.26\n",
      "5.69 3468.51 8.16 44.27\n",
      "2.87 5696.80 8.30 46.39\n",
      "6.45 3011.27 7.76 43.77\n",
      "6.45 3011.27 7.76 43.77\n"
     ]
    },
    {
     "data": {
      "text/plain": [
       "4.588736695598764"
      ]
     },
     "execution_count": 124,
     "metadata": {},
     "output_type": "execute_result"
    }
   ],
   "source": [
    "# rough work. \n",
    "# for J1409 \n",
    "\n",
    "z = 2.583\n",
    "dold = CC_dl.main(2.583,carilli2005)\n",
    "dnew = CC_dl.main(2.583,riechers2011)\n",
    "\n",
    "6.7*(dold/dnew)**-2\n",
    "2.2*(dold/dnew)**-2\n",
    "\n",
    "\n",
    "print riechers2011\n",
    "Lprime(z, 0.07, fCO10, riechers2011)/1.e9\n",
    "\n",
    "# for APM08279 \n",
    "\n",
    "z = 3.911\n",
    "\n",
    "0.9/4.2\n",
    "\n",
    "# cloverleaf HCN \n",
    "\n",
    "z = 2.5511\n",
    "\n",
    "Lprime(z, 2.6, fHCN10*4., riechers2011)/1.e9 /11.\n",
    "\n",
    "# F10214 \n",
    "z = 2.286\n",
    "\n",
    "Lprime(z, 0.01, fHCN10, riechers2011)/1.e9 /12\n",
    "\n",
    "# J0911 \n",
    "z = 2.7961\n",
    "\n",
    "Lprime(z, 0.029/22, fHCN10, riechers2011)/1.e9\n",
    "\n",
    "# J04135\n",
    "\n",
    "z = 2.846\n",
    "Lprime(z, 48.46/1000, fHCN10, riechers2011)/1.e9\n",
    "\n",
    "# MG 0751+2716 \n",
    "\n",
    "z = 3.1990\n",
    "dold = CC_dl.main(3.200,carilli2005)\n",
    "dnew = CC_dl.main(3.199,riechers2011)\n",
    "\n",
    "1.*(dold/dnew)**-2\n",
    "\n",
    "\n",
    "# J1635 \n",
    "\n",
    "z = 2.517\n",
    "dold = CC_dl.main( 2.517,carilli2005)\n",
    "dnew = CC_dl.main( 2.517,riechers2011)\n",
    "\n",
    "0.6*(dold/dnew)**-2\n",
    "\n",
    "\n",
    "Lprime(z, 0.040/22, fCO10, riechers2011)/1.e9\n",
    "\n",
    "#  SMM J02399  \n",
    "    \n",
    "z =2.8083\n",
    "dold = CC_dl.main( 2.517,carilli2005)\n",
    "dnew = CC_dl.main( 2.517,riechers2011)\n",
    "\n",
    "46*(dold/dnew)**-2\n",
    "\n",
    "\n",
    "20/2.5\n",
    "\n",
    "# BR 1202 \n",
    "\n",
    "z = 4.693\n",
    "Lprime(z, 0.031, fHCN10, riechers2011)/1.e9\n",
    "\n",
    "dold = CC_dl.main(4.693,[75,0.3,0.7])\n",
    "dnew = CC_dl.main(4.693,riechers2011)\n",
    "\n",
    "93*(dold/dnew)**-2\n",
    "\n",
    "Lprime(z, 0.012, fCO10, riechers2011)/1.e9\n",
    "\n",
    "# J1148 \n",
    "\n",
    "z = 6.419\n",
    "Lprime(z, 94.6/1000, fCO10, riechers2011)/1.e9\n",
    "\n",
    "\n",
    "# 14011 \n",
    "\n",
    "z = 2.565 \n",
    "\n",
    "Lprime(z, 0.03, fCO10, riechers2011)/1.e9\n",
    "\n",
    "# 2396 \n",
    "\n",
    "29.2 \n",
    "\n",
    "\n",
    "z = 1.062 \n",
    "Lprime(z, 29.2/1000, fHCN10, riechers2011)/1.e9\n",
    "\n",
    "# Lprime(z, 1.36, fCO10, riechers2011)/1.e9\n",
    "\n",
    "\n",
    "dold = CC_dl.main(1.062,[75,0.3,0.7])\n",
    "dnew = CC_dl.main(1.062,riechers2011)\n",
    "\n",
    "19*(dold/dnew)**-2\n",
    "\n",
    "\n",
    "dold = CC_dl.main(1.062,[70,0.3,0.7])\n",
    "dnew = CC_dl.main(1.062,riechers2011)\n",
    "\n",
    "5*(dold/dnew)**-2 /2.5\n",
    "\n",
    "\n",
    "# eyelash \n",
    "\n",
    "z = 2.3259\n",
    "\n",
    "Lprime(z, 0.11, fCO10, riechers2011)/1.e9 /32.5\n",
    "\n",
    "# BR 1938 \n",
    "\n",
    "z =  0.8809 \n",
    "\n",
    "Lprime(z, 0.64, fHCN10, riechers2011)/1.e9\n",
    "Lprime(z, 0.11, fCO10, riechers2011)/1.e9\n",
    "\n",
    "\n",
    "# LFIRs for them all \n",
    "\n"
   ]
  },
  {
   "cell_type": "code",
   "execution_count": 51,
   "metadata": {
    "collapsed": false
   },
   "outputs": [],
   "source": [
    "fHCN21 = 177.2612 \n",
    "fHCN10 = 88.632\n",
    "fHCOP21 = 278.3750 \n",
    "fCO10 = 115.27120\n"
   ]
  },
  {
   "cell_type": "code",
   "execution_count": 61,
   "metadata": {
    "collapsed": false
   },
   "outputs": [
    {
     "name": "stdout",
     "output_type": "stream",
     "text": [
      "2.61 5974.74 8.16 46.63\n"
     ]
    },
    {
     "data": {
      "text/plain": [
       "21216.329272755363"
      ]
     },
     "execution_count": 61,
     "metadata": {},
     "output_type": "execute_result"
    }
   ],
   "source": [
    "dl = CC_dl.main(2.5511,riechers2011)\n",
    "dl"
   ]
  },
  {
   "cell_type": "code",
   "execution_count": 59,
   "metadata": {
    "collapsed": false
   },
   "outputs": [
    {
     "data": {
      "text/plain": [
       "85.21836922507991"
      ]
     },
     "execution_count": 59,
     "metadata": {},
     "output_type": "execute_result"
    }
   ],
   "source": [
    "3.25e7 * 2.6 /(fHCN10*4/(1. + z))**2 * dl**2 *(1.+z)**-3 /1.e9"
   ]
  },
  {
   "cell_type": "code",
   "execution_count": 7,
   "metadata": {
    "collapsed": false
   },
   "outputs": [
    {
     "data": {
      "text/plain": [
       "array([[  2.58300000e+00,   6.90000000e+00,   2.30000000e+00,\n",
       "          8.55000000e+01,   2.21700000e+01,   1.00000000e+00],\n",
       "       [  3.91100000e+00,   1.16000000e+01,   1.40000000e+00,\n",
       "          2.52000000e+01,   2.10000000e+00,   1.00000000e+00],\n",
       "       [  2.55110000e+00,   7.74000000e+00,   1.49000000e+00,\n",
       "          3.93000000e+01,   1.10000000e+00,   1.00000000e+00],\n",
       "       [  2.28600000e+00,   1.80000000e+00,   3.60000000e-01,\n",
       "          5.77000000e+00,   4.90000000e-01,   1.00000000e+00],\n",
       "       [  2.79610000e+00,   8.00000000e-01,   2.70000000e-01,\n",
       "          3.39000000e+00,   4.80000000e-01,  -1.00000000e+00],\n",
       "       [  2.84600000e+00,   3.06300000e+01,   1.02000000e+01,\n",
       "          1.84000000e+02,   2.30000000e+01,  -1.00000000e+00],\n",
       "       [  3.19900000e+00,   1.03000000e+00,   3.50000000e-01,\n",
       "          1.49000000e+01,   2.00000000e+00,  -1.00000000e+00],\n",
       "       [  2.51700000e+00,   6.20000000e-01,   1.50000000e-01,\n",
       "          5.50000000e+00,   6.00000000e-01,   1.00000000e+00],\n",
       "       [  2.80830000e+00,   4.74000000e+01,   1.20000000e+01,\n",
       "          4.80000000e+01,   8.00000000e+00,  -1.00000000e+00],\n",
       "       [  4.69300000e+00,   4.39000000e+01,   1.40000000e+01,\n",
       "          1.03900000e+02,   1.01000000e+01,  -1.00000000e+00],\n",
       "       [  6.41900000e+00,   3.30000000e+00,   1.10000000e+00,\n",
       "          1.42000000e+02,   4.70000000e+01,  -1.00000000e+00],\n",
       "       [  2.56500000e+00,   1.60000000e+00,   5.00000000e-01,\n",
       "          1.00000000e+02,   9.38000000e+00,  -1.00000000e+00],\n",
       "       [  1.06200000e+00,   2.90000000e+00,   9.00000000e-01,\n",
       "          2.06000000e+01,   2.00000000e+00,  -1.00000000e+00],\n",
       "       [  2.32590000e+00,   4.50000000e+00,   1.50000000e+00,\n",
       "          1.75000000e+01,   9.00000000e-01,  -1.00000000e+00],\n",
       "       [  8.80900000e-01,   1.14300000e+02,   4.52000000e+01,\n",
       "          3.80000000e+01,   4.60000000e+00,   1.00000000e+00]])"
      ]
     },
     "execution_count": 7,
     "metadata": {},
     "output_type": "execute_result"
    }
   ],
   "source": [
    "# defining all the high redshift data\n",
    "# the columns are z, co, co_err, hcn, hcn_err, flag (to signify upper limits)\n",
    "\n",
    "hiz_lums"
   ]
  },
  {
   "cell_type": "code",
   "execution_count": 719,
   "metadata": {
    "collapsed": false
   },
   "outputs": [
    {
     "name": "stdout",
     "output_type": "stream",
     "text": [
      "13.39 84.10 0.40 34.67\n",
      "13.39 84.10 0.40 34.67\n",
      "0.446053136315\n"
     ]
    }
   ],
   "source": [
    "print (Lprime(0.002,6*0.109, fHCN10, riechers2011)/1.e9)/(Lprime(0.002,10*0.248, fCO10, riechers2011)/1.e9)"
   ]
  },
  {
   "cell_type": "code",
   "execution_count": 718,
   "metadata": {
    "collapsed": false
   },
   "outputs": [
    {
     "data": {
      "text/plain": [
       "0.025773195876288662"
      ]
     },
     "execution_count": 718,
     "metadata": {},
     "output_type": "execute_result"
    }
   ],
   "source": [
    "5.8/"
   ]
  },
  {
   "cell_type": "code",
   "execution_count": 714,
   "metadata": {
    "collapsed": false
   },
   "outputs": [
    {
     "data": {
      "text/plain": [
       "array(['M51', '9.6', '9.288', '10.62', '10.51', '1.34', '7.699', '-1.59',\n",
       "       '108.6', '291.7', '1.80'], \n",
       "      dtype='|S7')"
      ]
     },
     "execution_count": 714,
     "metadata": {},
     "output_type": "execute_result"
    }
   ],
   "source": [
    "alldatanames[64]"
   ]
  },
  {
   "cell_type": "code",
   "execution_count": 715,
   "metadata": {
    "collapsed": false
   },
   "outputs": [
    {
     "data": {
      "text/plain": [
       "10.51"
      ]
     },
     "execution_count": 715,
     "metadata": {},
     "output_type": "execute_result"
    }
   ],
   "source": [
    "lozFIR[64]"
   ]
  },
  {
   "cell_type": "code",
   "execution_count": null,
   "metadata": {
    "collapsed": true
   },
   "outputs": [],
   "source": []
  }
 ],
 "metadata": {
  "kernelspec": {
   "display_name": "Python 2",
   "language": "python",
   "name": "python2"
  },
  "language_info": {
   "codemirror_mode": {
    "name": "ipython",
    "version": 2
   },
   "file_extension": ".py",
   "mimetype": "text/x-python",
   "name": "python",
   "nbconvert_exporter": "python",
   "pygments_lexer": "ipython2",
   "version": "2.7.5"
  }
 },
 "nbformat": 4,
 "nbformat_minor": 0
}
